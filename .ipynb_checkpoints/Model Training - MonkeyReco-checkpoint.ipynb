{
 "cells": [
  {
   "cell_type": "markdown",
   "metadata": {},
   "source": [
    "# Imports"
   ]
  },
  {
   "cell_type": "code",
   "execution_count": null,
   "metadata": {},
   "outputs": [],
   "source": [
    "import math                      # providing access to the mathematical functions defined by the C standard\n",
    "import matplotlib.pyplot as plt  # plotting library\n",
    "import scipy                     # scientific computnig and technical computing\n",
    "import cv2                       # working with, mainly resizing, images\n",
    "import numpy as np               # dealing with arrays\n",
    "import glob                      # return a possibly-empty list of path names that match pathname\n",
    "import os                        # dealing with directories\n",
    "import pandas as pd              # providing data structures and data analysis tools\n",
    "import tensorflow as tf       \n",
    "import itertools\n",
    "import random\n",
    "from random import shuffle       # mixing up or currently ordered data that might lead our network astray in training.\n",
    "from tqdm import tqdm            # a nice pretty percentage bar for tasks. Thanks to viewer Daniel Bühler for this suggestion\n",
    "from PIL import Image\n",
    "from scipy import ndimage\n",
    "from pathlib import Path\n",
    "from sklearn.metrics import classification_report, confusion_matrix\n",
    "from sklearn import metrics\n",
    "%matplotlib inline\n",
    "np.random.seed(1)"
   ]
  },
  {
   "cell_type": "code",
   "execution_count": null,
   "metadata": {},
   "outputs": [],
   "source": [
    "# for math functions\n",
    "import math\n",
    "import numpy as np\n",
    "import pandas as pd\n",
    "import matplotlib.pyplot as plt\n",
    "# for scientific and technical computation\n",
    "import scipy\n",
    "# for resizing images\n",
    "import cv2\n",
    "# for getting paths\n",
    "import glob\n",
    "# for  directories\n",
    "import os\n",
    "import tensorflow as tf       \n",
    "import itertools\n",
    "import random\n",
    "# mixing up or currently ordered data - prevent network from being led astray\n",
    "from random import shuffle       \n",
    "# a nice pretty percentage bar for tasks. Thanks to viewer Daniel Bühler for this suggestion\n",
    "from tqdm import tqdm            \n",
    "from PIL import Image\n",
    "from scipy import ndimage\n",
    "from pathlib import Path\n",
    "from sklearn.metrics import classification_report, confusion_matrix\n",
    "from sklearn import metrics\n",
    "%matplotlib inline\n",
    "np.random.seed(1)"
   ]
  }
 ],
 "metadata": {
  "kernelspec": {
   "display_name": "Python 3",
   "language": "python",
   "name": "python3"
  },
  "language_info": {
   "codemirror_mode": {
    "name": "ipython",
    "version": 3
   },
   "file_extension": ".py",
   "mimetype": "text/x-python",
   "name": "python",
   "nbconvert_exporter": "python",
   "pygments_lexer": "ipython3",
   "version": "3.7.0"
  },
  "toc": {
   "base_numbering": 1,
   "nav_menu": {},
   "number_sections": true,
   "sideBar": true,
   "skip_h1_title": false,
   "title_cell": "Table of Contents",
   "title_sidebar": "Contents",
   "toc_cell": false,
   "toc_position": {},
   "toc_section_display": true,
   "toc_window_display": true
  }
 },
 "nbformat": 4,
 "nbformat_minor": 2
}
